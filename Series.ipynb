{
 "cells": [
  {
   "cell_type": "markdown",
   "id": "42f29f74-77b5-4674-bb86-6ae89483b49f",
   "metadata": {},
   "source": [
    "## Series"
   ]
  },
  {
   "cell_type": "code",
   "execution_count": 1,
   "id": "6a9c1839-3263-41c1-9d5f-5ebe96466cb9",
   "metadata": {},
   "outputs": [],
   "source": [
    "import pandas as pd"
   ]
  },
  {
   "cell_type": "code",
   "execution_count": 3,
   "id": "33790e2c-dfe1-4fb5-a37e-3f12150c9482",
   "metadata": {},
   "outputs": [
    {
     "name": "stdout",
     "output_type": "stream",
     "text": [
      "0    3\n",
      "1    4\n",
      "2    5\n",
      "3    6\n",
      "4    7\n",
      "5    8\n",
      "dtype: int64\n",
      "<class 'pandas.core.series.Series'>\n"
     ]
    }
   ],
   "source": [
    "x = [3,4,5,6,7,8]\n",
    "a = pd.Series(x)\n",
    "print(a)\n",
    "print(type(a))"
   ]
  },
  {
   "cell_type": "code",
   "execution_count": 4,
   "id": "a01398a5-2230-4709-9a61-e2245597077b",
   "metadata": {},
   "outputs": [
    {
     "name": "stdout",
     "output_type": "stream",
     "text": [
      "5\n"
     ]
    }
   ],
   "source": [
    "print(a[2])"
   ]
  },
  {
   "cell_type": "markdown",
   "id": "a367cebd-1cc2-4ffd-a365-7753426d146d",
   "metadata": {},
   "source": [
    "**How to change index**"
   ]
  },
  {
   "cell_type": "code",
   "execution_count": 5,
   "id": "6cce4cc7-7f0f-4753-a9fe-98091cf82076",
   "metadata": {},
   "outputs": [
    {
     "name": "stdout",
     "output_type": "stream",
     "text": [
      "a    3\n",
      "b    4\n",
      "c    5\n",
      "d    6\n",
      "e    7\n",
      "f    8\n",
      "dtype: int64\n"
     ]
    }
   ],
   "source": [
    "x = [3,4,5,6,7,8]\n",
    "a = pd.Series(x, index = ['a', 'b', 'c', 'd', 'e', 'f'])\n",
    "print(a)"
   ]
  },
  {
   "cell_type": "code",
   "execution_count": 8,
   "id": "ed1ac26f-f6ce-411a-9b82-751dd227a09f",
   "metadata": {},
   "outputs": [
    {
     "name": "stdout",
     "output_type": "stream",
     "text": [
      "a    3.0\n",
      "b    4.0\n",
      "c    5.0\n",
      "d    6.0\n",
      "e    7.0\n",
      "f    8.0\n",
      "dtype: float64\n"
     ]
    }
   ],
   "source": [
    "# We can also change data type\n",
    "x = [3,4,5,6,7,8]\n",
    "a = pd.Series(x, index = ['a', 'b', 'c', 'd', 'e', 'f'], dtype = 'float')\n",
    "print(a)"
   ]
  },
  {
   "cell_type": "code",
   "execution_count": 9,
   "id": "92c478c4-bef0-4e86-a593-0700a662b39d",
   "metadata": {},
   "outputs": [
    {
     "name": "stdout",
     "output_type": "stream",
     "text": [
      "a    3.0\n",
      "b    4.0\n",
      "c    5.0\n",
      "d    6.0\n",
      "e    7.0\n",
      "f    8.0\n",
      "Name: Python, dtype: float64\n"
     ]
    }
   ],
   "source": [
    "# Name\n",
    "x = [3,4,5,6,7,8]\n",
    "a = pd.Series(x, index = ['a', 'b', 'c', 'd', 'e', 'f'], dtype = 'float', name = 'Python')\n",
    "print(a)"
   ]
  },
  {
   "cell_type": "code",
   "execution_count": 11,
   "id": "10de0a8d-49aa-4026-a7d1-a5109131add5",
   "metadata": {},
   "outputs": [
    {
     "name": "stdout",
     "output_type": "stream",
     "text": [
      "Name    [Python, C, C++, Java]\n",
      "Por           [12, 13, 14, 14]\n",
      "Rank              [1, 2, 3, 4]\n",
      "dtype: object\n"
     ]
    }
   ],
   "source": [
    "dic  = {\"Name\" : ['Python', 'C', 'C++', 'Java'],\n",
    "       \"Por\" : [12,13,14,14],\n",
    "       \"Rank\" : [1,2,3,4]}\n",
    "s = pd.Series(dic)\n",
    "print(s)"
   ]
  },
  {
   "cell_type": "code",
   "execution_count": 12,
   "id": "580e725b-f6a6-4d5d-a7f3-db59780793b2",
   "metadata": {},
   "outputs": [
    {
     "name": "stdout",
     "output_type": "stream",
     "text": [
      "0    12\n",
      "dtype: int64\n",
      "<class 'pandas.core.series.Series'>\n"
     ]
    }
   ],
   "source": [
    "b = pd.Series(12)\n",
    "print(b)\n",
    "print(type(s))"
   ]
  },
  {
   "cell_type": "code",
   "execution_count": 13,
   "id": "b7c7bb51-d7ee-41ae-92bb-ffd0737bb1ee",
   "metadata": {},
   "outputs": [
    {
     "name": "stdout",
     "output_type": "stream",
     "text": [
      "1    12\n",
      "2    12\n",
      "3    12\n",
      "4    12\n",
      "5    12\n",
      "6    12\n",
      "dtype: int64\n",
      "<class 'pandas.core.series.Series'>\n"
     ]
    }
   ],
   "source": [
    "b = pd.Series(12, index = [1,2,3,4,5,6])\n",
    "print(b)\n",
    "print(type(s))"
   ]
  },
  {
   "cell_type": "code",
   "execution_count": 14,
   "id": "e59da3b4-34a4-4c69-8b60-af26e14994ca",
   "metadata": {},
   "outputs": [
    {
     "name": "stdout",
     "output_type": "stream",
     "text": [
      "1    24.0\n",
      "2    24.0\n",
      "3    24.0\n",
      "4    24.0\n",
      "5     NaN\n",
      "6     NaN\n",
      "dtype: float64\n"
     ]
    }
   ],
   "source": [
    "b = pd.Series(12, index = [1,2,3,4,5,6])\n",
    "c = pd.Series(12, index = [1,2,3,4])\n",
    "print(b+c)"
   ]
  },
  {
   "cell_type": "code",
   "execution_count": null,
   "id": "8e7f60ad-d3b6-45c6-a78e-0ed286c5b950",
   "metadata": {},
   "outputs": [],
   "source": []
  }
 ],
 "metadata": {
  "kernelspec": {
   "display_name": "Python 3 (ipykernel)",
   "language": "python",
   "name": "python3"
  },
  "language_info": {
   "codemirror_mode": {
    "name": "ipython",
    "version": 3
   },
   "file_extension": ".py",
   "mimetype": "text/x-python",
   "name": "python",
   "nbconvert_exporter": "python",
   "pygments_lexer": "ipython3",
   "version": "3.13.4"
  }
 },
 "nbformat": 4,
 "nbformat_minor": 5
}
