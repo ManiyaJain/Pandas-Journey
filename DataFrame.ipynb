{
 "cells": [
  {
   "cell_type": "markdown",
   "id": "6387f5d9-5971-4f2d-bd3d-f1a389c12aeb",
   "metadata": {},
   "source": [
    "## DataFrame"
   ]
  },
  {
   "cell_type": "code",
   "execution_count": 1,
   "id": "fc9a09d0-3671-44ad-a648-52c1601ad1fe",
   "metadata": {},
   "outputs": [],
   "source": [
    "import pandas as pd"
   ]
  },
  {
   "cell_type": "code",
   "execution_count": 2,
   "id": "12b53d74-c875-42b6-afdd-834b7d46b65e",
   "metadata": {},
   "outputs": [
    {
     "name": "stdout",
     "output_type": "stream",
     "text": [
      "   0\n",
      "0  1\n",
      "1  2\n",
      "2  3\n",
      "3  4\n",
      "4  5\n",
      "5  6\n"
     ]
    }
   ],
   "source": [
    "# List to DataFrame\n",
    "list = [1,2,3,4,5,6]\n",
    "print(pd.DataFrame(list))"
   ]
  },
  {
   "cell_type": "code",
   "execution_count": 3,
   "id": "a82ef812-fa44-49d8-ab63-b1470b5ec648",
   "metadata": {},
   "outputs": [
    {
     "name": "stdout",
     "output_type": "stream",
     "text": [
      "<class 'pandas.core.frame.DataFrame'>\n"
     ]
    }
   ],
   "source": [
    "var = pd.DataFrame(list)\n",
    "print(type(var))"
   ]
  },
  {
   "cell_type": "code",
   "execution_count": 4,
   "id": "a8bb5556-eab0-4540-b3e4-ea54d3cde908",
   "metadata": {},
   "outputs": [
    {
     "name": "stdout",
     "output_type": "stream",
     "text": [
      "   a  s\n",
      "0  1  1\n",
      "1  2  2\n",
      "2  3  3\n",
      "3  4  4\n",
      "4  5  5\n",
      "<class 'pandas.core.frame.DataFrame'>\n"
     ]
    }
   ],
   "source": [
    "# Dictionary to DataFrame\n",
    "dict = {\"a\" : [1,2,3,4,5], \n",
    "       \"s\" : [1,2,3,4,5]}\n",
    "var1 = pd.DataFrame(dict)\n",
    "\n",
    "print(var1)\n",
    "print(type(var1))"
   ]
  },
  {
   "cell_type": "code",
   "execution_count": 12,
   "id": "f0487799-8dd0-456c-b945-3bf2cfd5b0b7",
   "metadata": {},
   "outputs": [
    {
     "name": "stdout",
     "output_type": "stream",
     "text": [
      "   a  1\n",
      "0  1  2\n",
      "1  2  5\n",
      "2  3  6\n",
      "3  4  3\n",
      "4  5  4\n"
     ]
    }
   ],
   "source": [
    "# Print columns\n",
    "dict1 = {\"a\" : [1,2,3,4,5],\n",
    "        \"b\" : [5,6,7,8,9],\n",
    "        \"c\" : [3,6,7,2,1],\n",
    "         \"1\" : [2,5,6,3,4]}\n",
    "var2 = pd.DataFrame(dict1, columns = [\"a\", \"1\"])\n",
    "print(var2)"
   ]
  },
  {
   "cell_type": "code",
   "execution_count": 18,
   "id": "9921e09b-76a6-450f-a32b-4c1b2c97f02e",
   "metadata": {},
   "outputs": [
    {
     "name": "stdout",
     "output_type": "stream",
     "text": [
      "DataFrame before changing indexes :\n",
      "   a  b  c  1\n",
      "0  1  5  3  2\n",
      "1  2  6  6  5\n",
      "2  3  7  7  6\n",
      "3  4  8  2  3\n",
      "4  5  9  1  4\n",
      "\n",
      "DataFrame after changing indexes :\n",
      "   a  b  c  1\n",
      "a  1  5  3  2\n",
      "b  2  6  6  5\n",
      "c  3  7  7  6\n",
      "d  4  8  2  3\n",
      "e  5  9  1  4\n"
     ]
    }
   ],
   "source": [
    "# Change indexes\n",
    "dict2 = {\"a\" : [1,2,3,4,5],\n",
    "        \"b\" : [5,6,7,8,9],\n",
    "        \"c\" : [3,6,7,2,1],\n",
    "         \"1\" : [2,5,6,3,4]}\n",
    "print(\"DataFrame before changing indexes :\")\n",
    "var3 = pd.DataFrame(dict2)\n",
    "print(var3)\n",
    "print()\n",
    "print(\"DataFrame after changing indexes :\")\n",
    "var4 = pd.DataFrame(dict2, index=[\"a\", \"b\", \"c\", \"d\", \"e\"])\n",
    "print(var4)"
   ]
  },
  {
   "cell_type": "code",
   "execution_count": 20,
   "id": "77889576-763a-4303-9a1f-71ada7d99eaf",
   "metadata": {},
   "outputs": [
    {
     "name": "stdout",
     "output_type": "stream",
     "text": [
      "4\n",
      "6\n"
     ]
    }
   ],
   "source": [
    "# How to get value of particular column\n",
    "dict3 = {\"a\" : [1,2,3,4,5],\n",
    "        \"b\" : [5,6,7,8,9],\n",
    "        \"c\" : [3,6,7,2,1],\n",
    "         \"1\" : [2,5,6,3,4]}\n",
    "var3 = pd.DataFrame(dict2)\n",
    "print(var3[\"a\"][3]) # Element of 3rd row of column a\n",
    "print(var3[\"c\"][1]) # Element of 1st row of column c"
   ]
  },
  {
   "cell_type": "code",
   "execution_count": 22,
   "id": "fe79f2ed-e1f5-4390-a0d7-1306f78864ac",
   "metadata": {},
   "outputs": [
    {
     "name": "stdout",
     "output_type": "stream",
     "text": [
      "<class 'pandas.core.frame.DataFrame'>\n",
      "   0  1  2  3  4\n",
      "0  1  4  5  9  2\n",
      "1  3  5  2  8  0\n"
     ]
    }
   ],
   "source": [
    "# List of lists to DataFrame\n",
    "list1 = [[1,4,5,9,2], [3,5,2,8,0]]\n",
    "var4 = pd.DataFrame(list1)\n",
    "print(type(var4))\n",
    "print(var4)"
   ]
  },
  {
   "cell_type": "code",
   "execution_count": null,
   "id": "b3327023-4092-4637-9216-d6029e31cbe8",
   "metadata": {},
   "outputs": [],
   "source": [
    "sr = {\"s\" : pd.Series([1,2,3,4]), \"r\" : pd.Series([5,6,7,8])}\n",
    "var5 = pd.DataFrame(sr)\n"
   ]
  }
 ],
 "metadata": {
  "kernelspec": {
   "display_name": "Python 3 (ipykernel)",
   "language": "python",
   "name": "python3"
  },
  "language_info": {
   "codemirror_mode": {
    "name": "ipython",
    "version": 3
   },
   "file_extension": ".py",
   "mimetype": "text/x-python",
   "name": "python",
   "nbconvert_exporter": "python",
   "pygments_lexer": "ipython3",
   "version": "3.13.4"
  }
 },
 "nbformat": 4,
 "nbformat_minor": 5
}
